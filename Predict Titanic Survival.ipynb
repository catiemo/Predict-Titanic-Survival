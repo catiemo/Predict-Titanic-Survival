{
 "cells": [
  {
   "cell_type": "markdown",
   "id": "34b6893f",
   "metadata": {},
   "source": [
    "### Importing Libraries"
   ]
  },
  {
   "cell_type": "code",
   "execution_count": 1,
   "id": "ffac884f",
   "metadata": {},
   "outputs": [],
   "source": [
    "import pandas as pd\n",
    "import numpy as np\n",
    "import matplotlib.pyplot as plt\n",
    "from sklearn.linear_model import LogisticRegression\n",
    "from sklearn.model_selection import train_test_split\n",
    "from sklearn.preprocessing import StandardScaler"
   ]
  },
  {
   "cell_type": "markdown",
   "id": "e81dcfb3",
   "metadata": {},
   "source": [
    "### Reading csv file"
   ]
  },
  {
   "cell_type": "code",
   "execution_count": 19,
   "id": "a76f42e7",
   "metadata": {},
   "outputs": [
    {
     "data": {
      "text/html": [
       "<div>\n",
       "<style scoped>\n",
       "    .dataframe tbody tr th:only-of-type {\n",
       "        vertical-align: middle;\n",
       "    }\n",
       "\n",
       "    .dataframe tbody tr th {\n",
       "        vertical-align: top;\n",
       "    }\n",
       "\n",
       "    .dataframe thead th {\n",
       "        text-align: right;\n",
       "    }\n",
       "</style>\n",
       "<table border=\"1\" class=\"dataframe\">\n",
       "  <thead>\n",
       "    <tr style=\"text-align: right;\">\n",
       "      <th></th>\n",
       "      <th>PassengerId</th>\n",
       "      <th>Survived</th>\n",
       "      <th>Pclass</th>\n",
       "      <th>Name</th>\n",
       "      <th>Sex</th>\n",
       "      <th>Age</th>\n",
       "      <th>SibSp</th>\n",
       "      <th>Parch</th>\n",
       "      <th>Ticket</th>\n",
       "      <th>Fare</th>\n",
       "      <th>Cabin</th>\n",
       "      <th>Embarked</th>\n",
       "    </tr>\n",
       "  </thead>\n",
       "  <tbody>\n",
       "    <tr>\n",
       "      <th>0</th>\n",
       "      <td>1</td>\n",
       "      <td>0</td>\n",
       "      <td>3</td>\n",
       "      <td>Braund, Mr. Owen Harris</td>\n",
       "      <td>male</td>\n",
       "      <td>22.0</td>\n",
       "      <td>1</td>\n",
       "      <td>0</td>\n",
       "      <td>A/5 21171</td>\n",
       "      <td>7.2500</td>\n",
       "      <td>NaN</td>\n",
       "      <td>S</td>\n",
       "    </tr>\n",
       "    <tr>\n",
       "      <th>1</th>\n",
       "      <td>2</td>\n",
       "      <td>1</td>\n",
       "      <td>1</td>\n",
       "      <td>Cumings, Mrs. John Bradley (Florence Briggs Th...</td>\n",
       "      <td>female</td>\n",
       "      <td>38.0</td>\n",
       "      <td>1</td>\n",
       "      <td>0</td>\n",
       "      <td>PC 17599</td>\n",
       "      <td>71.2833</td>\n",
       "      <td>C85</td>\n",
       "      <td>C</td>\n",
       "    </tr>\n",
       "    <tr>\n",
       "      <th>2</th>\n",
       "      <td>3</td>\n",
       "      <td>1</td>\n",
       "      <td>3</td>\n",
       "      <td>Heikkinen, Miss. Laina</td>\n",
       "      <td>female</td>\n",
       "      <td>26.0</td>\n",
       "      <td>0</td>\n",
       "      <td>0</td>\n",
       "      <td>STON/O2. 3101282</td>\n",
       "      <td>7.9250</td>\n",
       "      <td>NaN</td>\n",
       "      <td>S</td>\n",
       "    </tr>\n",
       "    <tr>\n",
       "      <th>3</th>\n",
       "      <td>4</td>\n",
       "      <td>1</td>\n",
       "      <td>1</td>\n",
       "      <td>Futrelle, Mrs. Jacques Heath (Lily May Peel)</td>\n",
       "      <td>female</td>\n",
       "      <td>35.0</td>\n",
       "      <td>1</td>\n",
       "      <td>0</td>\n",
       "      <td>113803</td>\n",
       "      <td>53.1000</td>\n",
       "      <td>C123</td>\n",
       "      <td>S</td>\n",
       "    </tr>\n",
       "    <tr>\n",
       "      <th>4</th>\n",
       "      <td>5</td>\n",
       "      <td>0</td>\n",
       "      <td>3</td>\n",
       "      <td>Allen, Mr. William Henry</td>\n",
       "      <td>male</td>\n",
       "      <td>35.0</td>\n",
       "      <td>0</td>\n",
       "      <td>0</td>\n",
       "      <td>373450</td>\n",
       "      <td>8.0500</td>\n",
       "      <td>NaN</td>\n",
       "      <td>S</td>\n",
       "    </tr>\n",
       "  </tbody>\n",
       "</table>\n",
       "</div>"
      ],
      "text/plain": [
       "   PassengerId  Survived  Pclass  \\\n",
       "0            1         0       3   \n",
       "1            2         1       1   \n",
       "2            3         1       3   \n",
       "3            4         1       1   \n",
       "4            5         0       3   \n",
       "\n",
       "                                                Name     Sex   Age  SibSp  \\\n",
       "0                            Braund, Mr. Owen Harris    male  22.0      1   \n",
       "1  Cumings, Mrs. John Bradley (Florence Briggs Th...  female  38.0      1   \n",
       "2                             Heikkinen, Miss. Laina  female  26.0      0   \n",
       "3       Futrelle, Mrs. Jacques Heath (Lily May Peel)  female  35.0      1   \n",
       "4                           Allen, Mr. William Henry    male  35.0      0   \n",
       "\n",
       "   Parch            Ticket     Fare Cabin Embarked  \n",
       "0      0         A/5 21171   7.2500   NaN        S  \n",
       "1      0          PC 17599  71.2833   C85        C  \n",
       "2      0  STON/O2. 3101282   7.9250   NaN        S  \n",
       "3      0            113803  53.1000  C123        S  \n",
       "4      0            373450   8.0500   NaN        S  "
      ]
     },
     "execution_count": 19,
     "metadata": {},
     "output_type": "execute_result"
    }
   ],
   "source": [
    "# Load the passenger data\n",
    "passengers = pd.read_csv('passengers.csv')\n",
    "passengers.head()"
   ]
  },
  {
   "cell_type": "markdown",
   "id": "ceac3ede",
   "metadata": {},
   "source": [
    "### Clean the data"
   ]
  },
  {
   "cell_type": "code",
   "execution_count": 21,
   "id": "bc5a2ae7",
   "metadata": {},
   "outputs": [
    {
     "data": {
      "text/html": [
       "<div>\n",
       "<style scoped>\n",
       "    .dataframe tbody tr th:only-of-type {\n",
       "        vertical-align: middle;\n",
       "    }\n",
       "\n",
       "    .dataframe tbody tr th {\n",
       "        vertical-align: top;\n",
       "    }\n",
       "\n",
       "    .dataframe thead th {\n",
       "        text-align: right;\n",
       "    }\n",
       "</style>\n",
       "<table border=\"1\" class=\"dataframe\">\n",
       "  <thead>\n",
       "    <tr style=\"text-align: right;\">\n",
       "      <th></th>\n",
       "      <th>PassengerId</th>\n",
       "      <th>Survived</th>\n",
       "      <th>Pclass</th>\n",
       "      <th>Name</th>\n",
       "      <th>Sex</th>\n",
       "      <th>Age</th>\n",
       "      <th>SibSp</th>\n",
       "      <th>Parch</th>\n",
       "      <th>Ticket</th>\n",
       "      <th>Fare</th>\n",
       "      <th>Cabin</th>\n",
       "      <th>Embarked</th>\n",
       "      <th>SexNumeric</th>\n",
       "    </tr>\n",
       "  </thead>\n",
       "  <tbody>\n",
       "    <tr>\n",
       "      <th>0</th>\n",
       "      <td>1</td>\n",
       "      <td>0</td>\n",
       "      <td>3</td>\n",
       "      <td>Braund, Mr. Owen Harris</td>\n",
       "      <td>male</td>\n",
       "      <td>22.0</td>\n",
       "      <td>1</td>\n",
       "      <td>0</td>\n",
       "      <td>A/5 21171</td>\n",
       "      <td>7.2500</td>\n",
       "      <td>NaN</td>\n",
       "      <td>S</td>\n",
       "      <td>0</td>\n",
       "    </tr>\n",
       "    <tr>\n",
       "      <th>1</th>\n",
       "      <td>2</td>\n",
       "      <td>1</td>\n",
       "      <td>1</td>\n",
       "      <td>Cumings, Mrs. John Bradley (Florence Briggs Th...</td>\n",
       "      <td>female</td>\n",
       "      <td>38.0</td>\n",
       "      <td>1</td>\n",
       "      <td>0</td>\n",
       "      <td>PC 17599</td>\n",
       "      <td>71.2833</td>\n",
       "      <td>C85</td>\n",
       "      <td>C</td>\n",
       "      <td>1</td>\n",
       "    </tr>\n",
       "    <tr>\n",
       "      <th>2</th>\n",
       "      <td>3</td>\n",
       "      <td>1</td>\n",
       "      <td>3</td>\n",
       "      <td>Heikkinen, Miss. Laina</td>\n",
       "      <td>female</td>\n",
       "      <td>26.0</td>\n",
       "      <td>0</td>\n",
       "      <td>0</td>\n",
       "      <td>STON/O2. 3101282</td>\n",
       "      <td>7.9250</td>\n",
       "      <td>NaN</td>\n",
       "      <td>S</td>\n",
       "      <td>1</td>\n",
       "    </tr>\n",
       "    <tr>\n",
       "      <th>3</th>\n",
       "      <td>4</td>\n",
       "      <td>1</td>\n",
       "      <td>1</td>\n",
       "      <td>Futrelle, Mrs. Jacques Heath (Lily May Peel)</td>\n",
       "      <td>female</td>\n",
       "      <td>35.0</td>\n",
       "      <td>1</td>\n",
       "      <td>0</td>\n",
       "      <td>113803</td>\n",
       "      <td>53.1000</td>\n",
       "      <td>C123</td>\n",
       "      <td>S</td>\n",
       "      <td>1</td>\n",
       "    </tr>\n",
       "    <tr>\n",
       "      <th>4</th>\n",
       "      <td>5</td>\n",
       "      <td>0</td>\n",
       "      <td>3</td>\n",
       "      <td>Allen, Mr. William Henry</td>\n",
       "      <td>male</td>\n",
       "      <td>35.0</td>\n",
       "      <td>0</td>\n",
       "      <td>0</td>\n",
       "      <td>373450</td>\n",
       "      <td>8.0500</td>\n",
       "      <td>NaN</td>\n",
       "      <td>S</td>\n",
       "      <td>0</td>\n",
       "    </tr>\n",
       "  </tbody>\n",
       "</table>\n",
       "</div>"
      ],
      "text/plain": [
       "   PassengerId  Survived  Pclass  \\\n",
       "0            1         0       3   \n",
       "1            2         1       1   \n",
       "2            3         1       3   \n",
       "3            4         1       1   \n",
       "4            5         0       3   \n",
       "\n",
       "                                                Name     Sex   Age  SibSp  \\\n",
       "0                            Braund, Mr. Owen Harris    male  22.0      1   \n",
       "1  Cumings, Mrs. John Bradley (Florence Briggs Th...  female  38.0      1   \n",
       "2                             Heikkinen, Miss. Laina  female  26.0      0   \n",
       "3       Futrelle, Mrs. Jacques Heath (Lily May Peel)  female  35.0      1   \n",
       "4                           Allen, Mr. William Henry    male  35.0      0   \n",
       "\n",
       "   Parch            Ticket     Fare Cabin Embarked  SexNumeric  \n",
       "0      0         A/5 21171   7.2500   NaN        S           0  \n",
       "1      0          PC 17599  71.2833   C85        C           1  \n",
       "2      0  STON/O2. 3101282   7.9250   NaN        S           1  \n",
       "3      0            113803  53.1000  C123        S           1  \n",
       "4      0            373450   8.0500   NaN        S           0  "
      ]
     },
     "execution_count": 21,
     "metadata": {},
     "output_type": "execute_result"
    }
   ],
   "source": [
    "# Update sex column to numerical\n",
    "sex = np.where(passengers.Sex == 'female', 1, 0)\n",
    "passengers['SexNumeric'] = sex\n",
    "passengers.head()"
   ]
  },
  {
   "cell_type": "code",
   "execution_count": 22,
   "id": "08682b17",
   "metadata": {},
   "outputs": [
    {
     "data": {
      "text/plain": [
       "False"
      ]
     },
     "execution_count": 22,
     "metadata": {},
     "output_type": "execute_result"
    }
   ],
   "source": [
    "# Fill the nan values in the age column\n",
    "passengers['Age'].fillna(passengers.Age.mean(), inplace = True)\n",
    "passengers.Age.isna().any()"
   ]
  },
  {
   "cell_type": "code",
   "execution_count": 23,
   "id": "dba372aa",
   "metadata": {},
   "outputs": [
    {
     "name": "stdout",
     "output_type": "stream",
     "text": [
      "3    491\n",
      "1    216\n",
      "2    184\n",
      "Name: Pclass, dtype: int64\n"
     ]
    }
   ],
   "source": [
    "# Create a first class column\n",
    "print(passengers.Pclass.value_counts())\n",
    "first_class = np.where(passengers.Pclass == 1, 1, 0)\n",
    "passengers['FirstClass'] = first_class"
   ]
  },
  {
   "cell_type": "code",
   "execution_count": 24,
   "id": "d72ba04d",
   "metadata": {},
   "outputs": [
    {
     "data": {
      "text/html": [
       "<div>\n",
       "<style scoped>\n",
       "    .dataframe tbody tr th:only-of-type {\n",
       "        vertical-align: middle;\n",
       "    }\n",
       "\n",
       "    .dataframe tbody tr th {\n",
       "        vertical-align: top;\n",
       "    }\n",
       "\n",
       "    .dataframe thead th {\n",
       "        text-align: right;\n",
       "    }\n",
       "</style>\n",
       "<table border=\"1\" class=\"dataframe\">\n",
       "  <thead>\n",
       "    <tr style=\"text-align: right;\">\n",
       "      <th></th>\n",
       "      <th>PassengerId</th>\n",
       "      <th>Survived</th>\n",
       "      <th>Pclass</th>\n",
       "      <th>Name</th>\n",
       "      <th>Sex</th>\n",
       "      <th>Age</th>\n",
       "      <th>SibSp</th>\n",
       "      <th>Parch</th>\n",
       "      <th>Ticket</th>\n",
       "      <th>Fare</th>\n",
       "      <th>Cabin</th>\n",
       "      <th>Embarked</th>\n",
       "      <th>SexNumeric</th>\n",
       "      <th>FirstClass</th>\n",
       "      <th>SecondClass</th>\n",
       "    </tr>\n",
       "  </thead>\n",
       "  <tbody>\n",
       "    <tr>\n",
       "      <th>0</th>\n",
       "      <td>1</td>\n",
       "      <td>0</td>\n",
       "      <td>3</td>\n",
       "      <td>Braund, Mr. Owen Harris</td>\n",
       "      <td>male</td>\n",
       "      <td>22.0</td>\n",
       "      <td>1</td>\n",
       "      <td>0</td>\n",
       "      <td>A/5 21171</td>\n",
       "      <td>7.2500</td>\n",
       "      <td>NaN</td>\n",
       "      <td>S</td>\n",
       "      <td>0</td>\n",
       "      <td>0</td>\n",
       "      <td>0</td>\n",
       "    </tr>\n",
       "    <tr>\n",
       "      <th>1</th>\n",
       "      <td>2</td>\n",
       "      <td>1</td>\n",
       "      <td>1</td>\n",
       "      <td>Cumings, Mrs. John Bradley (Florence Briggs Th...</td>\n",
       "      <td>female</td>\n",
       "      <td>38.0</td>\n",
       "      <td>1</td>\n",
       "      <td>0</td>\n",
       "      <td>PC 17599</td>\n",
       "      <td>71.2833</td>\n",
       "      <td>C85</td>\n",
       "      <td>C</td>\n",
       "      <td>1</td>\n",
       "      <td>1</td>\n",
       "      <td>0</td>\n",
       "    </tr>\n",
       "    <tr>\n",
       "      <th>2</th>\n",
       "      <td>3</td>\n",
       "      <td>1</td>\n",
       "      <td>3</td>\n",
       "      <td>Heikkinen, Miss. Laina</td>\n",
       "      <td>female</td>\n",
       "      <td>26.0</td>\n",
       "      <td>0</td>\n",
       "      <td>0</td>\n",
       "      <td>STON/O2. 3101282</td>\n",
       "      <td>7.9250</td>\n",
       "      <td>NaN</td>\n",
       "      <td>S</td>\n",
       "      <td>1</td>\n",
       "      <td>0</td>\n",
       "      <td>0</td>\n",
       "    </tr>\n",
       "    <tr>\n",
       "      <th>3</th>\n",
       "      <td>4</td>\n",
       "      <td>1</td>\n",
       "      <td>1</td>\n",
       "      <td>Futrelle, Mrs. Jacques Heath (Lily May Peel)</td>\n",
       "      <td>female</td>\n",
       "      <td>35.0</td>\n",
       "      <td>1</td>\n",
       "      <td>0</td>\n",
       "      <td>113803</td>\n",
       "      <td>53.1000</td>\n",
       "      <td>C123</td>\n",
       "      <td>S</td>\n",
       "      <td>1</td>\n",
       "      <td>1</td>\n",
       "      <td>0</td>\n",
       "    </tr>\n",
       "    <tr>\n",
       "      <th>4</th>\n",
       "      <td>5</td>\n",
       "      <td>0</td>\n",
       "      <td>3</td>\n",
       "      <td>Allen, Mr. William Henry</td>\n",
       "      <td>male</td>\n",
       "      <td>35.0</td>\n",
       "      <td>0</td>\n",
       "      <td>0</td>\n",
       "      <td>373450</td>\n",
       "      <td>8.0500</td>\n",
       "      <td>NaN</td>\n",
       "      <td>S</td>\n",
       "      <td>0</td>\n",
       "      <td>0</td>\n",
       "      <td>0</td>\n",
       "    </tr>\n",
       "  </tbody>\n",
       "</table>\n",
       "</div>"
      ],
      "text/plain": [
       "   PassengerId  Survived  Pclass  \\\n",
       "0            1         0       3   \n",
       "1            2         1       1   \n",
       "2            3         1       3   \n",
       "3            4         1       1   \n",
       "4            5         0       3   \n",
       "\n",
       "                                                Name     Sex   Age  SibSp  \\\n",
       "0                            Braund, Mr. Owen Harris    male  22.0      1   \n",
       "1  Cumings, Mrs. John Bradley (Florence Briggs Th...  female  38.0      1   \n",
       "2                             Heikkinen, Miss. Laina  female  26.0      0   \n",
       "3       Futrelle, Mrs. Jacques Heath (Lily May Peel)  female  35.0      1   \n",
       "4                           Allen, Mr. William Henry    male  35.0      0   \n",
       "\n",
       "   Parch            Ticket     Fare Cabin Embarked  SexNumeric  FirstClass  \\\n",
       "0      0         A/5 21171   7.2500   NaN        S           0           0   \n",
       "1      0          PC 17599  71.2833   C85        C           1           1   \n",
       "2      0  STON/O2. 3101282   7.9250   NaN        S           1           0   \n",
       "3      0            113803  53.1000  C123        S           1           1   \n",
       "4      0            373450   8.0500   NaN        S           0           0   \n",
       "\n",
       "   SecondClass  \n",
       "0            0  \n",
       "1            0  \n",
       "2            0  \n",
       "3            0  \n",
       "4            0  "
      ]
     },
     "execution_count": 24,
     "metadata": {},
     "output_type": "execute_result"
    }
   ],
   "source": [
    "# Create a second class column\n",
    "second_class = np.where(passengers.Pclass == 2, 1, 0)\n",
    "passengers['SecondClass'] = second_class\n",
    "passengers.head()"
   ]
  },
  {
   "cell_type": "markdown",
   "id": "3c7e2ff5",
   "metadata": {},
   "source": [
    "### Select and Split Data"
   ]
  },
  {
   "cell_type": "code",
   "execution_count": 33,
   "id": "a591b645",
   "metadata": {},
   "outputs": [],
   "source": [
    "# Select the desired features\n",
    "features = passengers[['Age', 'SexNumeric', 'FirstClass', 'SecondClass']]\n",
    "survival = passengers['Survived']"
   ]
  },
  {
   "cell_type": "code",
   "execution_count": 34,
   "id": "5b949d34",
   "metadata": {},
   "outputs": [],
   "source": [
    "# Perform train, test, split\n",
    "X_train, X_test, y_train, y_test = train_test_split(features, survival, test_size = 0.2)"
   ]
  },
  {
   "cell_type": "markdown",
   "id": "b9c981dc",
   "metadata": {},
   "source": [
    "### Normalize training and testing features"
   ]
  },
  {
   "cell_type": "code",
   "execution_count": 35,
   "id": "478428fa",
   "metadata": {},
   "outputs": [
    {
     "data": {
      "text/plain": [
       "array([[-0.21911916, -0.74470474, -0.57302549,  1.99474835],\n",
       "       [-0.76302766, -0.74470474, -0.57302549, -0.50131637],\n",
       "       [ 0.79099664,  1.34281406,  1.74512307, -0.50131637],\n",
       "       [-2.23935075, -0.74470474, -0.57302549, -0.50131637],\n",
       "       [-0.00939444, -0.74470474,  1.74512307, -0.50131637],\n",
       "       [-0.68532645, -0.74470474, -0.57302549, -0.50131637],\n",
       "       [ 0.0916857 , -0.74470474,  1.74512307, -0.50131637],\n",
       "       [ 0.40249056, -0.74470474,  1.74512307, -0.50131637],\n",
       "       [-0.91843009,  1.34281406, -0.57302549,  1.99474835],\n",
       "       [-0.99613131, -0.74470474, -0.57302549, -0.50131637],\n",
       "       [ 1.56800878,  1.34281406, -0.57302549,  1.99474835],\n",
       "       [-0.76302766, -0.74470474, -0.57302549, -0.50131637],\n",
       "       [-0.60762523, -0.74470474, -0.57302549, -0.50131637],\n",
       "       [-0.52992402, -0.74470474,  1.74512307, -0.50131637],\n",
       "       [ 1.10180149,  1.34281406, -0.57302549,  1.99474835],\n",
       "       [ 1.17950271,  1.34281406, -0.57302549,  1.99474835],\n",
       "       [ 1.33490514,  1.34281406,  1.74512307, -0.50131637],\n",
       "       [-2.08394832, -0.74470474, -0.57302549,  1.99474835],\n",
       "       [-0.00939444, -0.74470474,  1.74512307, -0.50131637],\n",
       "       [ 1.87881364,  1.34281406, -0.57302549,  1.99474835],\n",
       "       [-2.23935075,  1.34281406, -0.57302549, -0.50131637],\n",
       "       [ 0.40249056, -0.74470474, -0.57302549, -0.50131637],\n",
       "       [-0.99613131,  1.34281406, -0.57302549, -0.50131637],\n",
       "       [-2.16164953, -0.74470474, -0.57302549, -0.50131637],\n",
       "       [-0.29682037, -0.74470474, -0.57302549, -0.50131637],\n",
       "       [-0.14141794,  1.34281406, -0.57302549,  1.99474835],\n",
       "       [-2.08394832, -0.74470474, -0.57302549, -0.50131637],\n",
       "       [-0.06371673, -0.74470474, -0.57302549,  1.99474835],\n",
       "       [-1.69544224,  1.34281406, -0.57302549,  1.99474835],\n",
       "       [-0.84072888, -0.74470474, -0.57302549, -0.50131637],\n",
       "       [-0.37452159, -0.74470474, -0.57302549, -0.50131637],\n",
       "       [-0.00939444, -0.74470474, -0.57302549, -0.50131637],\n",
       "       [-0.4522228 , -0.74470474, -0.57302549,  1.99474835],\n",
       "       [ 1.10180149, -0.74470474,  1.74512307, -0.50131637],\n",
       "       [-0.37452159, -0.74470474, -0.57302549, -0.50131637],\n",
       "       [-2.08394832, -0.74470474, -0.57302549,  1.99474835],\n",
       "       [-1.92854589,  1.34281406, -0.57302549, -0.50131637],\n",
       "       [-0.91843009, -0.74470474, -0.57302549, -0.50131637],\n",
       "       [ 2.34502093, -0.74470474,  1.74512307, -0.50131637],\n",
       "       [-0.00939444, -0.74470474, -0.57302549, -0.50131637],\n",
       "       [ 1.25720392, -0.74470474, -0.57302549,  1.99474835],\n",
       "       [-0.60762523,  1.34281406,  1.74512307, -0.50131637],\n",
       "       [-0.4522228 , -0.74470474, -0.57302549, -0.50131637],\n",
       "       [-0.4522228 ,  1.34281406, -0.57302549,  1.99474835],\n",
       "       [-2.0062471 ,  1.34281406, -0.57302549, -0.50131637],\n",
       "       [ 0.79099664, -0.74470474, -0.57302549, -0.50131637],\n",
       "       [-0.68532645,  1.34281406,  1.74512307, -0.50131637],\n",
       "       [-0.00939444, -0.74470474, -0.57302549, -0.50131637],\n",
       "       [-2.25877605,  1.34281406, -0.57302549, -0.50131637],\n",
       "       [ 1.10180149,  1.34281406,  1.74512307, -0.50131637],\n",
       "       [ 0.48019178, -0.74470474,  1.74512307, -0.50131637],\n",
       "       [ 3.12203308, -0.74470474,  1.74512307, -0.50131637],\n",
       "       [-1.07383252,  1.34281406, -0.57302549, -0.50131637],\n",
       "       [ 1.64571   , -0.74470474, -0.57302549, -0.50131637],\n",
       "       [ 1.17950271, -0.74470474,  1.74512307, -0.50131637],\n",
       "       [ 2.26731972, -0.74470474, -0.57302549,  1.99474835],\n",
       "       [ 0.71329542,  1.34281406, -0.57302549, -0.50131637],\n",
       "       [-2.25255995, -0.74470474, -0.57302549,  1.99474835],\n",
       "       [-0.00939444, -0.74470474, -0.57302549, -0.50131637],\n",
       "       [-0.00939444, -0.74470474, -0.57302549, -0.50131637],\n",
       "       [-0.29682037, -0.74470474, -0.57302549, -0.50131637],\n",
       "       [ 0.0916857 , -0.74470474, -0.57302549, -0.50131637],\n",
       "       [-0.14141794, -0.74470474,  1.74512307, -0.50131637],\n",
       "       [-0.60762523, -0.74470474, -0.57302549, -0.50131637],\n",
       "       [-0.4522228 , -0.74470474, -0.57302549, -0.50131637],\n",
       "       [-2.16164953, -0.74470474, -0.57302549, -0.50131637],\n",
       "       [ 0.24708813, -0.74470474, -0.57302549, -0.50131637],\n",
       "       [ 0.94639906,  1.34281406, -0.57302549,  1.99474835],\n",
       "       [-0.91843009,  1.34281406, -0.57302549, -0.50131637],\n",
       "       [-0.06371673,  1.34281406, -0.57302549, -0.50131637],\n",
       "       [-0.00939444, -0.74470474,  1.74512307, -0.50131637],\n",
       "       [ 0.32478935, -0.74470474, -0.57302549,  1.99474835],\n",
       "       [-0.00939444, -0.74470474, -0.57302549, -0.50131637],\n",
       "       [ 0.01398449, -0.74470474,  1.74512307, -0.50131637],\n",
       "       [-0.60762523, -0.74470474, -0.57302549, -0.50131637],\n",
       "       [-0.37452159, -0.74470474, -0.57302549,  1.99474835],\n",
       "       [-0.14141794, -0.74470474, -0.57302549,  1.99474835],\n",
       "       [ 0.16938692, -0.74470474, -0.57302549, -0.50131637],\n",
       "       [-0.4522228 , -0.74470474, -0.57302549, -0.50131637],\n",
       "       [ 0.71329542, -0.74470474, -0.57302549, -0.50131637],\n",
       "       [ 0.16938692,  1.34281406, -0.57302549, -0.50131637],\n",
       "       [-2.16164953,  1.34281406, -0.57302549, -0.50131637],\n",
       "       [-0.68532645, -0.74470474, -0.57302549, -0.50131637],\n",
       "       [-0.00939444, -0.74470474, -0.57302549, -0.50131637],\n",
       "       [-0.52992402, -0.74470474, -0.57302549,  1.99474835],\n",
       "       [-0.06371673, -0.74470474, -0.57302549, -0.50131637],\n",
       "       [ 2.57812458,  1.34281406, -0.57302549, -0.50131637],\n",
       "       [-0.99613131, -0.74470474, -0.57302549, -0.50131637],\n",
       "       [ 0.0916857 ,  1.34281406,  1.74512307, -0.50131637],\n",
       "       [ 1.10180149,  1.34281406,  1.74512307, -0.50131637],\n",
       "       [-0.00939444, -0.74470474, -0.57302549, -0.50131637],\n",
       "       [-0.99613131,  1.34281406, -0.57302549,  1.99474835],\n",
       "       [-0.84072888, -0.74470474, -0.57302549, -0.50131637],\n",
       "       [ 0.01398449,  1.34281406,  1.74512307, -0.50131637],\n",
       "       [-0.00939444, -0.74470474,  1.74512307, -0.50131637],\n",
       "       [ 0.63559421,  1.34281406,  1.74512307, -0.50131637],\n",
       "       [-0.00939444,  1.34281406, -0.57302549, -0.50131637],\n",
       "       [-0.68532645, -0.74470474, -0.57302549, -0.50131637],\n",
       "       [ 1.41260635, -0.74470474,  1.74512307, -0.50131637],\n",
       "       [-0.60762523, -0.74470474, -0.57302549, -0.50131637],\n",
       "       [-1.85084467, -0.74470474, -0.57302549, -0.50131637],\n",
       "       [ 0.63559421,  1.34281406, -0.57302549,  1.99474835],\n",
       "       [ 0.01398449, -0.74470474, -0.57302549,  1.99474835],\n",
       "       [ 0.32478935, -0.74470474, -0.57302549,  1.99474835],\n",
       "       [ 0.71329542,  1.34281406,  1.74512307, -0.50131637],\n",
       "       [-0.00939444,  1.34281406, -0.57302549, -0.50131637],\n",
       "       [-0.68532645, -0.74470474, -0.57302549, -0.50131637],\n",
       "       [-0.21911916,  1.34281406, -0.57302549,  1.99474835],\n",
       "       [-0.60762523,  1.34281406, -0.57302549, -0.50131637],\n",
       "       [ 0.94639906, -0.74470474, -0.57302549,  1.99474835],\n",
       "       [-0.84072888, -0.74470474, -0.57302549, -0.50131637],\n",
       "       [-0.00939444,  1.34281406, -0.57302549, -0.50131637],\n",
       "       [-0.4522228 , -0.74470474, -0.57302549, -0.50131637],\n",
       "       [-0.00939444, -0.74470474, -0.57302549, -0.50131637],\n",
       "       [-0.14141794,  1.34281406, -0.57302549, -0.50131637],\n",
       "       [-0.00939444,  1.34281406,  1.74512307, -0.50131637],\n",
       "       [ 0.40249056, -0.74470474,  1.74512307, -0.50131637],\n",
       "       [ 0.40249056, -0.74470474, -0.57302549,  1.99474835],\n",
       "       [-0.00939444, -0.74470474, -0.57302549, -0.50131637],\n",
       "       [-0.76302766, -0.74470474, -0.57302549, -0.50131637],\n",
       "       [ 0.01398449, -0.74470474, -0.57302549, -0.50131637],\n",
       "       [-0.76302766, -0.74470474, -0.57302549, -0.50131637],\n",
       "       [-0.00939444, -0.74470474, -0.57302549, -0.50131637],\n",
       "       [-0.84072888, -0.74470474, -0.57302549, -0.50131637],\n",
       "       [-0.37452159,  1.34281406, -0.57302549,  1.99474835],\n",
       "       [-0.21911916, -0.74470474,  1.74512307, -0.50131637],\n",
       "       [ 1.17950271, -0.74470474, -0.57302549, -0.50131637],\n",
       "       [-1.22923495,  1.34281406, -0.57302549,  1.99474835],\n",
       "       [-0.06371673, -0.74470474, -0.57302549,  1.99474835],\n",
       "       [ 0.40249056,  1.34281406, -0.57302549,  1.99474835],\n",
       "       [ 0.20823752, -0.74470474, -0.57302549,  1.99474835],\n",
       "       [ 0.0916857 , -0.74470474, -0.57302549, -0.50131637],\n",
       "       [ 0.79099664,  1.34281406, -0.57302549,  1.99474835],\n",
       "       [ 2.03421607,  1.34281406,  1.74512307, -0.50131637],\n",
       "       [-0.60762523, -0.74470474, -0.57302549, -0.50131637],\n",
       "       [-0.00939444, -0.74470474, -0.57302549, -0.50131637],\n",
       "       [-1.07383252,  1.34281406, -0.57302549, -0.50131637],\n",
       "       [-0.91843009, -0.74470474, -0.57302549, -0.50131637],\n",
       "       [ 0.32478935,  1.34281406, -0.57302549,  1.99474835],\n",
       "       [-0.76302766, -0.74470474, -0.57302549, -0.50131637],\n",
       "       [-0.06371673, -0.74470474, -0.57302549,  1.99474835],\n",
       "       [ 0.24708813, -0.74470474, -0.57302549, -0.50131637],\n",
       "       [-0.84072888,  1.34281406, -0.57302549, -0.50131637],\n",
       "       [ 0.79099664,  1.34281406, -0.57302549,  1.99474835],\n",
       "       [ 0.48019178, -0.74470474, -0.57302549, -0.50131637],\n",
       "       [-0.60762523, -0.74470474, -0.57302549, -0.50131637],\n",
       "       [ 2.1896185 , -0.74470474,  1.74512307, -0.50131637],\n",
       "       [-0.4522228 ,  1.34281406, -0.57302549,  1.99474835],\n",
       "       [ 0.16938692, -0.74470474, -0.57302549, -0.50131637],\n",
       "       [-0.00939444,  1.34281406, -0.57302549, -0.50131637],\n",
       "       [-0.21911916,  1.34281406, -0.57302549,  1.99474835],\n",
       "       [-0.4522228 , -0.74470474, -0.57302549, -0.50131637],\n",
       "       [-0.00939444, -0.74470474, -0.57302549, -0.50131637],\n",
       "       [ 0.82984724, -0.74470474, -0.57302549, -0.50131637],\n",
       "       [ 0.48019178, -0.74470474,  1.74512307, -0.50131637],\n",
       "       [-0.00939444, -0.74470474,  1.74512307, -0.50131637],\n",
       "       [-0.21911916,  1.34281406, -0.57302549, -0.50131637],\n",
       "       [ 1.02410028,  1.34281406,  1.74512307, -0.50131637],\n",
       "       [-0.91843009,  1.34281406, -0.57302549, -0.50131637],\n",
       "       [ 0.79099664, -0.74470474, -0.57302549, -0.50131637],\n",
       "       [-0.84072888,  1.34281406, -0.57302549,  1.99474835],\n",
       "       [-2.0062471 , -0.74470474, -0.57302549, -0.50131637],\n",
       "       [-0.37452159, -0.74470474, -0.57302549, -0.50131637],\n",
       "       [ 0.24708813,  1.34281406,  1.74512307, -0.50131637],\n",
       "       [ 2.65582579, -0.74470474,  1.74512307, -0.50131637],\n",
       "       [ 1.95651486, -0.74470474,  1.74512307, -0.50131637],\n",
       "       [-0.00939444, -0.74470474,  1.74512307, -0.50131637],\n",
       "       [ 1.72341121, -0.74470474,  1.74512307, -0.50131637],\n",
       "       [-0.29682037, -0.74470474, -0.57302549,  1.99474835],\n",
       "       [-0.00939444, -0.74470474, -0.57302549, -0.50131637],\n",
       "       [ 2.57812458,  1.34281406,  1.74512307, -0.50131637],\n",
       "       [-0.37452159, -0.74470474, -0.57302549, -0.50131637],\n",
       "       [ 1.41260635,  1.34281406,  1.74512307, -0.50131637],\n",
       "       [ 2.73352701, -0.74470474, -0.57302549, -0.50131637],\n",
       "       [ 0.16938692, -0.74470474, -0.57302549, -0.50131637],\n",
       "       [ 1.02410028, -0.74470474, -0.57302549, -0.50131637],\n",
       "       [-0.91843009, -0.74470474, -0.57302549, -0.50131637],\n",
       "       [-0.84072888, -0.74470474, -0.57302549, -0.50131637],\n",
       "       [ 0.48019178,  1.34281406, -0.57302549, -0.50131637]])"
      ]
     },
     "execution_count": 35,
     "metadata": {},
     "output_type": "execute_result"
    }
   ],
   "source": [
    "# Scale the feature data so it has mean = 0 and standard deviation = 1\n",
    "scaler = StandardScaler()\n",
    "scaler.fit_transform(X_train)\n",
    "scaler.transform(X_test)"
   ]
  },
  {
   "cell_type": "markdown",
   "id": "be812e85",
   "metadata": {},
   "source": [
    "### Create and Evaluate Model"
   ]
  },
  {
   "cell_type": "code",
   "execution_count": 36,
   "id": "5eb5cb9d",
   "metadata": {},
   "outputs": [
    {
     "data": {
      "text/plain": [
       "LogisticRegression()"
      ]
     },
     "execution_count": 36,
     "metadata": {},
     "output_type": "execute_result"
    }
   ],
   "source": [
    "# Create and train the model\n",
    "reg = LogisticRegression()\n",
    "reg.fit(X_train, y_train)"
   ]
  },
  {
   "cell_type": "code",
   "execution_count": 37,
   "id": "782ee87d",
   "metadata": {},
   "outputs": [
    {
     "name": "stdout",
     "output_type": "stream",
     "text": [
      "Training Score: 0.8033707865168539\n"
     ]
    }
   ],
   "source": [
    "# Score the model on the train data\n",
    "print('Training Score:', reg.score(X_train, y_train))"
   ]
  },
  {
   "cell_type": "code",
   "execution_count": 38,
   "id": "4e6dfea2",
   "metadata": {},
   "outputs": [
    {
     "name": "stdout",
     "output_type": "stream",
     "text": [
      "Test Score: 0.770949720670391\n"
     ]
    }
   ],
   "source": [
    "# Score the model on the test data\n",
    "print('Test Score:', reg.score(X_test, y_test))"
   ]
  },
  {
   "cell_type": "code",
   "execution_count": 39,
   "id": "e9ab8abe",
   "metadata": {},
   "outputs": [
    {
     "data": {
      "text/plain": [
       "array([[-0.02733845,  2.51271492,  2.14656427,  1.16535561]])"
      ]
     },
     "execution_count": 39,
     "metadata": {},
     "output_type": "execute_result"
    }
   ],
   "source": [
    "# Analyze the coefficients\n",
    "reg.coef_"
   ]
  },
  {
   "cell_type": "code",
   "execution_count": 15,
   "id": "aa5e4d6c",
   "metadata": {},
   "outputs": [],
   "source": [
    "# Sample passenger features\n",
    "Jack = np.array([0.0,20.0,0.0,0.0])\n",
    "Rose = np.array([1.0,17.0,1.0,0.0])\n",
    "You = np.array([0.0,54.0,0.0,0.0])"
   ]
  },
  {
   "cell_type": "code",
   "execution_count": 40,
   "id": "16d17dce",
   "metadata": {},
   "outputs": [
    {
     "data": {
      "text/plain": [
       "array([[ 0., 20.,  0.,  0.],\n",
       "       [ 1., 17.,  1.,  0.],\n",
       "       [ 0., 54.,  0.,  0.]])"
      ]
     },
     "execution_count": 40,
     "metadata": {},
     "output_type": "execute_result"
    }
   ],
   "source": [
    "# Combine passenger arrays\n",
    "sample_passengers = np.array([Jack, Rose, You])\n",
    "sample_passengers"
   ]
  },
  {
   "cell_type": "code",
   "execution_count": 41,
   "id": "97448f08",
   "metadata": {},
   "outputs": [
    {
     "data": {
      "text/plain": [
       "array([[ -2.31705196,  41.00567135,  -0.57302549,  -0.50131637],\n",
       "       [ -2.23935075,  34.74311493,   1.74512307,  -0.50131637],\n",
       "       [ -2.31705196, 111.9813107 ,  -0.57302549,  -0.50131637]])"
      ]
     },
     "execution_count": 41,
     "metadata": {},
     "output_type": "execute_result"
    }
   ],
   "source": [
    "# Scale the sample passenger features\n",
    "sample_passengers = scaler.transform(sample_passengers)\n",
    "sample_passengers"
   ]
  },
  {
   "cell_type": "code",
   "execution_count": 42,
   "id": "6d38f77a",
   "metadata": {},
   "outputs": [
    {
     "data": {
      "text/plain": [
       "array([1, 1, 1], dtype=int64)"
      ]
     },
     "execution_count": 42,
     "metadata": {},
     "output_type": "execute_result"
    }
   ],
   "source": [
    "# Make survival predictions!\n",
    "reg.predict(sample_passengers)"
   ]
  },
  {
   "cell_type": "code",
   "execution_count": 43,
   "id": "a3a4d3b9",
   "metadata": {},
   "outputs": [
    {
     "data": {
      "text/plain": [
       "array([[0., 1.],\n",
       "       [0., 1.],\n",
       "       [0., 1.]])"
      ]
     },
     "execution_count": 43,
     "metadata": {},
     "output_type": "execute_result"
    }
   ],
   "source": [
    "reg.predict_proba(sample_passengers)"
   ]
  },
  {
   "cell_type": "code",
   "execution_count": null,
   "id": "f9692df7",
   "metadata": {},
   "outputs": [],
   "source": []
  }
 ],
 "metadata": {
  "kernelspec": {
   "display_name": "Python 3",
   "language": "python",
   "name": "python3"
  },
  "language_info": {
   "codemirror_mode": {
    "name": "ipython",
    "version": 3
   },
   "file_extension": ".py",
   "mimetype": "text/x-python",
   "name": "python",
   "nbconvert_exporter": "python",
   "pygments_lexer": "ipython3",
   "version": "3.8.8"
  }
 },
 "nbformat": 4,
 "nbformat_minor": 5
}
